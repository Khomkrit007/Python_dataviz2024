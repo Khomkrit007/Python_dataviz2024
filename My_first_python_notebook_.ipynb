{
  "nbformat": 4,
  "nbformat_minor": 0,
  "metadata": {
    "colab": {
      "provenance": [],
      "authorship_tag": "ABX9TyOBC8fnA+a3oFp5oPLN2f/W",
      "include_colab_link": true
    },
    "kernelspec": {
      "name": "python3",
      "display_name": "Python 3"
    },
    "language_info": {
      "name": "python"
    }
  },
  "cells": [
    {
      "cell_type": "markdown",
      "metadata": {
        "id": "view-in-github",
        "colab_type": "text"
      },
      "source": [
        "<a href=\"https://colab.research.google.com/github/Khomkrit007/Python_dataviz2024/blob/main/My_first_python_notebook_.ipynb\" target=\"_parent\"><img src=\"https://colab.research.google.com/assets/colab-badge.svg\" alt=\"Open In Colab\"/></a>"
      ]
    },
    {
      "cell_type": "markdown",
      "source": [
        "### Basic programming for data science & Data Visualization here we use *Markdown*"
      ],
      "metadata": {
        "id": "3ItnJqZhRqkL"
      }
    },
    {
      "cell_type": "code",
      "execution_count": 4,
      "metadata": {
        "colab": {
          "base_uri": "https://localhost:8080/"
        },
        "id": "1XNN-_ZQQ1Bn",
        "outputId": "f5374684-11d8-4763-d2eb-d61b2c953a01"
      },
      "outputs": [
        {
          "output_type": "stream",
          "name": "stdout",
          "text": [
            "Khomkrit\n"
          ]
        }
      ],
      "source": [
        "print('Khomkrit')"
      ]
    },
    {
      "cell_type": "code",
      "source": [
        "print('Lsosungnoen')"
      ],
      "metadata": {
        "colab": {
          "base_uri": "https://localhost:8080/"
        },
        "id": "itDEKL8JSqZ0",
        "outputId": "05b370ac-cc6d-4331-d502-d34f27810379"
      },
      "execution_count": 7,
      "outputs": [
        {
          "output_type": "stream",
          "name": "stdout",
          "text": [
            "Lsosungnoen\n"
          ]
        }
      ]
    }
  ]
}